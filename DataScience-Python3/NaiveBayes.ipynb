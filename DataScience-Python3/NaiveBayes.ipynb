{
 "cells": [
  {
   "cell_type": "markdown",
   "metadata": {},
   "source": [
    "# Naive Bayes (the easy way)"
   ]
  },
  {
   "cell_type": "markdown",
   "metadata": {},
   "source": [
    "We'll cheat by using sklearn.naive_bayes to train a spam classifier! Most of the code is just loading our training data into a pandas DataFrame that we can play with:"
   ]
  },
  {
   "cell_type": "code",
   "execution_count": 1,
   "metadata": {},
   "outputs": [],
   "source": [
    "import os\n",
    "import io\n",
    "import numpy\n",
    "from pandas import DataFrame\n",
    "from sklearn.feature_extraction.text import CountVectorizer\n",
    "from sklearn.naive_bayes import MultinomialNB\n",
    "#Alain: Activity for train/test\n",
    "from sklearn.model_selection import train_test_split\n",
    "\n",
    "def readFiles(path):\n",
    "    for root, dirnames, filenames in os.walk(path):\n",
    "        for filename in filenames:\n",
    "            path = os.path.join(root, filename)\n",
    "\n",
    "            inBody = False\n",
    "            lines = []\n",
    "            f = io.open(path, 'r', encoding='latin1')\n",
    "            for line in f:\n",
    "                if inBody:\n",
    "                    lines.append(line)\n",
    "                elif line == '\\n':\n",
    "                    inBody = True\n",
    "            f.close()\n",
    "            message = '\\n'.join(lines)\n",
    "            yield path, message\n",
    "\n",
    "\n",
    "def dataFrameFromDirectory(path, classification):\n",
    "    rows = []\n",
    "    index = []\n",
    "    for filename, message in readFiles(path):\n",
    "        rows.append({'message': message, 'class': classification})\n",
    "        index.append(filename)\n",
    "\n",
    "    return DataFrame(rows, index=index)\n",
    "\n",
    "data = DataFrame({'message': [], 'class': []})\n",
    "\n",
    "data = data.append(dataFrameFromDirectory('/Users/amartens/Documents/Udemy/DataScience-Python3/emails/spam', 'spam'), sort=False)\n",
    "data = data.append(dataFrameFromDirectory('/Users/amartens/Documents/Udemy/DataScience-Python3/emails/ham', 'ham'), sort=False)\n"
   ]
  },
  {
   "cell_type": "markdown",
   "metadata": {},
   "source": [
    "Let's have a look at that DataFrame:"
   ]
  },
  {
   "cell_type": "code",
   "execution_count": 2,
   "metadata": {
    "scrolled": true
   },
   "outputs": [
    {
     "data": {
      "text/html": [
       "<div>\n",
       "<style scoped>\n",
       "    .dataframe tbody tr th:only-of-type {\n",
       "        vertical-align: middle;\n",
       "    }\n",
       "\n",
       "    .dataframe tbody tr th {\n",
       "        vertical-align: top;\n",
       "    }\n",
       "\n",
       "    .dataframe thead th {\n",
       "        text-align: right;\n",
       "    }\n",
       "</style>\n",
       "<table border=\"1\" class=\"dataframe\">\n",
       "  <thead>\n",
       "    <tr style=\"text-align: right;\">\n",
       "      <th></th>\n",
       "      <th>message</th>\n",
       "      <th>class</th>\n",
       "    </tr>\n",
       "  </thead>\n",
       "  <tbody>\n",
       "    <tr>\n",
       "      <th>/Users/amartens/Documents/Udemy/DataScience-Python3/emails/spam/00249.5f45607c1bffe89f60ba1ec9f878039a</th>\n",
       "      <td>Dear Homeowner,\\n\\n \\n\\nInterest Rates are at ...</td>\n",
       "      <td>spam</td>\n",
       "    </tr>\n",
       "    <tr>\n",
       "      <th>/Users/amartens/Documents/Udemy/DataScience-Python3/emails/spam/00373.ebe8670ac56b04125c25100a36ab0510</th>\n",
       "      <td>ATTENTION: This is a MUST for ALL Computer Use...</td>\n",
       "      <td>spam</td>\n",
       "    </tr>\n",
       "    <tr>\n",
       "      <th>/Users/amartens/Documents/Udemy/DataScience-Python3/emails/spam/00214.1367039e50dc6b7adb0f2aa8aba83216</th>\n",
       "      <td>This is a multi-part message in MIME format.\\n...</td>\n",
       "      <td>spam</td>\n",
       "    </tr>\n",
       "    <tr>\n",
       "      <th>/Users/amartens/Documents/Udemy/DataScience-Python3/emails/spam/00210.050ffd105bd4e006771ee63cabc59978</th>\n",
       "      <td>IMPORTANT INFORMATION:\\n\\n\\n\\nThe new domain n...</td>\n",
       "      <td>spam</td>\n",
       "    </tr>\n",
       "    <tr>\n",
       "      <th>/Users/amartens/Documents/Udemy/DataScience-Python3/emails/spam/00033.9babb58d9298daa2963d4f514193d7d6</th>\n",
       "      <td>This is the bottom line.  If you can GIVE AWAY...</td>\n",
       "      <td>spam</td>\n",
       "    </tr>\n",
       "  </tbody>\n",
       "</table>\n",
       "</div>"
      ],
      "text/plain": [
       "                                                                                              message  \\\n",
       "/Users/amartens/Documents/Udemy/DataScience-Pyt...  Dear Homeowner,\\n\\n \\n\\nInterest Rates are at ...   \n",
       "/Users/amartens/Documents/Udemy/DataScience-Pyt...  ATTENTION: This is a MUST for ALL Computer Use...   \n",
       "/Users/amartens/Documents/Udemy/DataScience-Pyt...  This is a multi-part message in MIME format.\\n...   \n",
       "/Users/amartens/Documents/Udemy/DataScience-Pyt...  IMPORTANT INFORMATION:\\n\\n\\n\\nThe new domain n...   \n",
       "/Users/amartens/Documents/Udemy/DataScience-Pyt...  This is the bottom line.  If you can GIVE AWAY...   \n",
       "\n",
       "                                                   class  \n",
       "/Users/amartens/Documents/Udemy/DataScience-Pyt...  spam  \n",
       "/Users/amartens/Documents/Udemy/DataScience-Pyt...  spam  \n",
       "/Users/amartens/Documents/Udemy/DataScience-Pyt...  spam  \n",
       "/Users/amartens/Documents/Udemy/DataScience-Pyt...  spam  \n",
       "/Users/amartens/Documents/Udemy/DataScience-Pyt...  spam  "
      ]
     },
     "execution_count": 2,
     "metadata": {},
     "output_type": "execute_result"
    }
   ],
   "source": [
    "data.head()"
   ]
  },
  {
   "cell_type": "markdown",
   "metadata": {},
   "source": [
    "Now we will use a CountVectorizer to split up each message into its list of words, and throw that into a MultinomialNB classifier. Call fit() and we've got a trained spam filter ready to go! It's just that easy."
   ]
  },
  {
   "cell_type": "code",
   "execution_count": 3,
   "metadata": {},
   "outputs": [
    {
     "data": {
      "text/plain": [
       "MultinomialNB(alpha=1.0, class_prior=None, fit_prior=True)"
      ]
     },
     "execution_count": 3,
     "metadata": {},
     "output_type": "execute_result"
    }
   ],
   "source": [
    "vectorizer = CountVectorizer()\n",
    "counts = vectorizer.fit_transform(data['message'].values)\n",
    "\n",
    "classifier = MultinomialNB()\n",
    "targets = data['class'].values\n",
    "classifier.fit(counts, targets)"
   ]
  },
  {
   "cell_type": "markdown",
   "metadata": {},
   "source": [
    "Let's try it out:"
   ]
  },
  {
   "cell_type": "code",
   "execution_count": 5,
   "metadata": {},
   "outputs": [
    {
     "data": {
      "text/plain": [
       "array(['spam', 'ham', 'spam', 'ham'], dtype='<U4')"
      ]
     },
     "execution_count": 5,
     "metadata": {},
     "output_type": "execute_result"
    }
   ],
   "source": [
    "examples = ['Free Viagra now!!!', \"Hi Bob, how about a game of golf tomorrow?\", \"Do you want free dollars?\", \"Just a simple message\"]\n",
    "example_counts = vectorizer.transform(examples)\n",
    "predictions = classifier.predict(example_counts)\n",
    "predictions"
   ]
  },
  {
   "cell_type": "markdown",
   "metadata": {},
   "source": [
    "## Activity"
   ]
  },
  {
   "cell_type": "markdown",
   "metadata": {},
   "source": [
    "Our data set is small, so our spam classifier isn't actually very good. Try running some different test emails through it and see if you get the results you expect.\n",
    "\n",
    "If you really want to challenge yourself, try applying train/test to this spam classifier - see how well it can predict some subset of the ham and spam emails."
   ]
  },
  {
   "cell_type": "code",
   "execution_count": 58,
   "metadata": {
    "scrolled": true
   },
   "outputs": [],
   "source": [
    "#Also imported Sklearn train_test_split\n",
    "#Activity - create a place holder for train and test data\n",
    "\n",
    "from sklearn.metrics import r2_score\n",
    "\n",
    "train, test = train_test_split(data, test_size=0.2)"
   ]
  },
  {
   "cell_type": "code",
   "execution_count": 59,
   "metadata": {},
   "outputs": [
    {
     "data": {
      "text/html": [
       "<div>\n",
       "<style scoped>\n",
       "    .dataframe tbody tr th:only-of-type {\n",
       "        vertical-align: middle;\n",
       "    }\n",
       "\n",
       "    .dataframe tbody tr th {\n",
       "        vertical-align: top;\n",
       "    }\n",
       "\n",
       "    .dataframe thead th {\n",
       "        text-align: right;\n",
       "    }\n",
       "</style>\n",
       "<table border=\"1\" class=\"dataframe\">\n",
       "  <thead>\n",
       "    <tr style=\"text-align: right;\">\n",
       "      <th></th>\n",
       "      <th>message</th>\n",
       "      <th>class</th>\n",
       "    </tr>\n",
       "  </thead>\n",
       "  <tbody>\n",
       "    <tr>\n",
       "      <th>/Users/amartens/Documents/Udemy/DataScience-Python3/emails/ham/01584.c2bc0fb5826431ed3df58a0fc968c068</th>\n",
       "      <td>On Tue, 10 Sep 2002, Rose, Bobby wrote:\\n\\n\\n\\...</td>\n",
       "      <td>ham</td>\n",
       "    </tr>\n",
       "    <tr>\n",
       "      <th>/Users/amartens/Documents/Udemy/DataScience-Python3/emails/ham/01947.1d30e15168424f7d1342c5dcd60f22b2</th>\n",
       "      <td>URL: http://www.newsisfree.com/click/-3,776472...</td>\n",
       "      <td>ham</td>\n",
       "    </tr>\n",
       "    <tr>\n",
       "      <th>/Users/amartens/Documents/Udemy/DataScience-Python3/emails/ham/01071.5d83f457fafaabe795b84a483a42a9e1</th>\n",
       "      <td>Once upon a time, Brian wrote :\\n\\n\\n\\n&gt; hey i...</td>\n",
       "      <td>ham</td>\n",
       "    </tr>\n",
       "    <tr>\n",
       "      <th>/Users/amartens/Documents/Udemy/DataScience-Python3/emails/ham/00120.4de6f88fbcb22a39a0498f84d9ce358b</th>\n",
       "      <td>&gt; That always amazes me about 'regular' dreams...</td>\n",
       "      <td>ham</td>\n",
       "    </tr>\n",
       "    <tr>\n",
       "      <th>/Users/amartens/Documents/Udemy/DataScience-Python3/emails/ham/01606.cf1844a356849ed8cdafb12185afd52f</th>\n",
       "      <td>If you examine the log further, you'll see deb...</td>\n",
       "      <td>ham</td>\n",
       "    </tr>\n",
       "  </tbody>\n",
       "</table>\n",
       "</div>"
      ],
      "text/plain": [
       "                                                                                              message  \\\n",
       "/Users/amartens/Documents/Udemy/DataScience-Pyt...  On Tue, 10 Sep 2002, Rose, Bobby wrote:\\n\\n\\n\\...   \n",
       "/Users/amartens/Documents/Udemy/DataScience-Pyt...  URL: http://www.newsisfree.com/click/-3,776472...   \n",
       "/Users/amartens/Documents/Udemy/DataScience-Pyt...  Once upon a time, Brian wrote :\\n\\n\\n\\n> hey i...   \n",
       "/Users/amartens/Documents/Udemy/DataScience-Pyt...  > That always amazes me about 'regular' dreams...   \n",
       "/Users/amartens/Documents/Udemy/DataScience-Pyt...  If you examine the log further, you'll see deb...   \n",
       "\n",
       "                                                   class  \n",
       "/Users/amartens/Documents/Udemy/DataScience-Pyt...   ham  \n",
       "/Users/amartens/Documents/Udemy/DataScience-Pyt...   ham  \n",
       "/Users/amartens/Documents/Udemy/DataScience-Pyt...   ham  \n",
       "/Users/amartens/Documents/Udemy/DataScience-Pyt...   ham  \n",
       "/Users/amartens/Documents/Udemy/DataScience-Pyt...   ham  "
      ]
     },
     "execution_count": 59,
     "metadata": {},
     "output_type": "execute_result"
    }
   ],
   "source": [
    "train.head()"
   ]
  },
  {
   "cell_type": "code",
   "execution_count": 60,
   "metadata": {},
   "outputs": [
    {
     "data": {
      "text/plain": [
       "MultinomialNB(alpha=1.0, class_prior=None, fit_prior=True)"
      ]
     },
     "execution_count": 60,
     "metadata": {},
     "output_type": "execute_result"
    }
   ],
   "source": [
    "vectorizer = CountVectorizer()\n",
    "counts = vectorizer.fit_transform(train['message'].values)\n",
    "\n",
    "classifier = MultinomialNB()\n",
    "targets = train['class'].values\n",
    "classifier.fit(counts, targets)"
   ]
  },
  {
   "cell_type": "code",
   "execution_count": 67,
   "metadata": {},
   "outputs": [],
   "source": [
    "#Let's apply it to test data set\n",
    "test_counts = vectorizer.transform(test['message'])"
   ]
  },
  {
   "cell_type": "code",
   "execution_count": 79,
   "metadata": {},
   "outputs": [],
   "source": [
    "#Predict spam or ham based on the test data using the trained model above\n",
    "predictions = classifier.predict(test_counts)"
   ]
  },
  {
   "cell_type": "code",
   "execution_count": 80,
   "metadata": {},
   "outputs": [
    {
     "name": "stdout",
     "output_type": "stream",
     "text": [
      "Length of testBool list:  600\n",
      "Length of predictionBool list:  600\n"
     ]
    }
   ],
   "source": [
    "#Iterate over test and predictions to get 1 or 0 based on spam or ham\n",
    "testBool = []\n",
    "predictionBool = []\n",
    "\n",
    "for i in test['class'].values:\n",
    "    if (i == 'spam'):\n",
    "        testBool.append(1)\n",
    "    else:\n",
    "        testBool.append(0)\n",
    "\n",
    "for i in predictions:\n",
    "    if (i == 'spam'):\n",
    "        predictionBool.append(1)\n",
    "    else:\n",
    "        predictionBool.append(0)\n",
    "\n",
    "\n",
    "print(\"Length of testBool list: \", str(len(testBool)))\n",
    "print(\"Length of predictionBool list: \", str(len(predictionBool)))"
   ]
  },
  {
   "cell_type": "code",
   "execution_count": 81,
   "metadata": {},
   "outputs": [
    {
     "data": {
      "text/plain": [
       "0.7540530015781599"
      ]
     },
     "execution_count": 81,
     "metadata": {},
     "output_type": "execute_result"
    }
   ],
   "source": [
    "#Now calculate the R-squared for the test set\n",
    "r2_score(testBool, predictionBool)"
   ]
  },
  {
   "cell_type": "code",
   "execution_count": null,
   "metadata": {},
   "outputs": [],
   "source": []
  }
 ],
 "metadata": {
  "kernelspec": {
   "display_name": "Python 3",
   "language": "python",
   "name": "python3"
  },
  "language_info": {
   "codemirror_mode": {
    "name": "ipython",
    "version": 3
   },
   "file_extension": ".py",
   "mimetype": "text/x-python",
   "name": "python",
   "nbconvert_exporter": "python",
   "pygments_lexer": "ipython3",
   "version": "3.6.5"
  }
 },
 "nbformat": 4,
 "nbformat_minor": 1
}
