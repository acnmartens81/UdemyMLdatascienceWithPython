{
 "cells": [
  {
   "cell_type": "markdown",
   "metadata": {},
   "source": [
    "# Mean, Median, Mode, and introducing NumPy"
   ]
  },
  {
   "cell_type": "markdown",
   "metadata": {},
   "source": [
    "## Mean vs. Median"
   ]
  },
  {
   "cell_type": "markdown",
   "metadata": {},
   "source": [
    "Let's create some fake income data, centered around 27,000 with a normal distribution and standard deviation of 15,000, with 10,000 data points. (We'll discuss those terms more later, if you're not familiar with them.)\n",
    "\n",
    "Then, compute the mean (average) - it should be close to 27,000:"
   ]
  },
  {
   "cell_type": "code",
   "execution_count": 18,
   "metadata": {},
   "outputs": [
    {
     "data": {
      "text/plain": [
       "27035.980125781345"
      ]
     },
     "execution_count": 18,
     "metadata": {},
     "output_type": "execute_result"
    }
   ],
   "source": [
    "import numpy as np\n",
    "\n",
    "incomes = np.random.normal(27000, 15000, 10000)\n",
    "np.mean(incomes)"
   ]
  },
  {
   "cell_type": "markdown",
   "metadata": {},
   "source": [
    "We can segment the income data into 50 buckets, and plot it as a histogram:"
   ]
  },
  {
   "cell_type": "code",
   "execution_count": 19,
   "metadata": {},
   "outputs": [
    {
     "data": {
      "image/png": "[encoded data removed]",
      "text/plain": [
       "<Figure size 432x288 with 1 Axes>"
      ]
     },
     "metadata": {},
     "output_type": "display_data"
    }
   ],
   "source": [
    "%matplotlib inline\n",
    "import matplotlib.pyplot as plt\n",
    "plt.hist(incomes, 50)\n",
    "plt.show()"
   ]
  },
  {
   "cell_type": "markdown",
   "metadata": {},
   "source": [
    "Now compute the median - since we have a nice, even distribution it too should be close to 27,000:"
   ]
  },
  {
   "cell_type": "code",
   "execution_count": 20,
   "metadata": {},
   "outputs": [
    {
     "data": {
      "text/plain": [
       "27032.280221259796"
      ]
     },
     "execution_count": 20,
     "metadata": {},
     "output_type": "execute_result"
    }
   ],
   "source": [
    "np.median(incomes)"
   ]
  },
  {
   "cell_type": "markdown",
   "metadata": {},
   "source": [
    "Now we'll add Donald Trump into the mix. Darn income inequality!"
   ]
  },
  {
   "cell_type": "code",
   "execution_count": 21,
   "metadata": {},
   "outputs": [],
   "source": [
    "incomes = np.append(incomes, [1000000000])"
   ]
  },
  {
   "cell_type": "markdown",
   "metadata": {},
   "source": [
    "The median won't change much, but the mean does:"
   ]
  },
  {
   "cell_type": "code",
   "execution_count": 22,
   "metadata": {},
   "outputs": [
    {
     "data": {
      "text/plain": [
       "27034.523159778597"
      ]
     },
     "execution_count": 22,
     "metadata": {},
     "output_type": "execute_result"
    }
   ],
   "source": [
    "np.median(incomes)"
   ]
  },
  {
   "cell_type": "code",
   "execution_count": 23,
   "metadata": {},
   "outputs": [
    {
     "data": {
      "text/plain": [
       "127023.27779800154"
      ]
     },
     "execution_count": 23,
     "metadata": {},
     "output_type": "execute_result"
    }
   ],
   "source": [
    "np.mean(incomes)"
   ]
  },
  {
   "cell_type": "markdown",
   "metadata": {},
   "source": [
    "## Mode"
   ]
  },
  {
   "cell_type": "markdown",
   "metadata": {},
   "source": [
    "Next, let's generate some fake age data for 500 people:"
   ]
  },
  {
   "cell_type": "code",
   "execution_count": 7,
   "metadata": {},
   "outputs": [
    {
     "data": {
      "text/plain": [
       "array([82, 39, 59, 78, 45, 66, 73, 64, 27, 25, 58, 24, 80, 39, 68, 25, 49,\n",
       "       55, 73, 49, 79, 51, 79, 87, 39, 24, 44, 45, 85, 22, 56, 68, 42, 27,\n",
       "       71, 42, 49, 45, 18, 30, 85, 56, 47, 86, 29, 58, 32, 65, 36, 27, 61,\n",
       "       55, 27, 30, 69, 44, 52, 37, 47, 63, 65, 70, 85, 85, 29, 85, 87, 49,\n",
       "       75, 52, 87, 59, 60, 34, 63, 71, 39, 71, 18, 38, 43, 22, 49, 78, 50,\n",
       "       20, 61, 38, 26, 58, 85, 85, 84, 66, 54, 58, 68, 76, 62, 77, 18, 31,\n",
       "       53, 79, 55, 20, 27, 87, 41, 27, 64, 40, 47, 18, 34, 50, 76, 32, 58,\n",
       "       60, 89, 74, 33, 70, 85, 76, 66, 75, 26, 29, 19, 21, 53, 32, 53, 80,\n",
       "       20, 51, 48, 67, 66, 41, 23, 88, 54, 29, 70, 37, 62, 50, 86, 59, 75,\n",
       "       50, 64, 60, 45, 65, 32, 27, 87, 68, 65, 43, 85, 68, 68, 40, 20, 27,\n",
       "       77, 52, 79, 78, 69, 43, 57, 25, 57, 76, 87, 69, 76, 76, 45, 81, 62,\n",
       "       24, 71, 88, 19, 83, 62, 65, 25, 33, 24, 27, 19, 31, 37, 57, 36, 42,\n",
       "       22, 67, 77, 44, 24, 28, 52, 24, 56, 82, 58, 62, 34, 70, 29, 60, 22,\n",
       "       35, 43, 69, 44, 23, 63, 79, 57, 70, 57, 26, 60, 25, 53, 76, 32, 58,\n",
       "       77, 86, 88, 81, 89, 84, 44, 55, 31, 33, 85, 74, 56, 67, 72, 74, 70,\n",
       "       37, 64, 42, 58, 36, 57, 52, 52, 20, 51, 84, 53, 54, 37, 52, 66, 43,\n",
       "       71, 24, 53, 60, 38, 83, 43, 46, 54, 86, 23, 27, 88, 81, 38, 37, 73,\n",
       "       69, 33, 22, 49, 67, 55, 43, 18, 69, 53, 21, 42, 21, 88, 79, 53, 19,\n",
       "       36, 71, 38, 76, 55, 40, 52, 37, 70, 55, 50, 79, 87, 48, 85, 42, 65,\n",
       "       89, 65, 72, 43, 32, 47, 67, 44, 75, 65, 43, 45, 83, 49, 84, 56, 78,\n",
       "       27, 42, 86, 46, 58, 84, 61, 82, 38, 83, 72, 68, 78, 22, 72, 50, 20,\n",
       "       54, 84, 77, 48, 57, 45, 57, 55, 36, 26, 77, 22, 23, 49, 48, 85, 80,\n",
       "       67, 83, 78, 79, 57, 39, 86, 38, 33, 35, 73, 31, 66, 81, 72, 84, 43,\n",
       "       68, 63, 63, 38, 61, 48, 59, 81, 48, 78, 78, 51, 41, 57, 84, 53, 30,\n",
       "       69, 77, 71, 55, 37, 89, 65, 63, 88, 60, 33, 57, 33, 75, 28, 38, 33,\n",
       "       21, 55, 57, 33, 40, 70, 60, 44, 53, 76, 89, 67, 86, 80, 86, 67, 85,\n",
       "       35, 81, 89, 82, 35, 24, 87, 36, 53, 20, 64, 31, 59, 68, 82, 68, 22,\n",
       "       30, 22, 47, 24, 42, 77, 64, 20, 25, 55, 71, 61, 65, 49, 21, 37, 61,\n",
       "       44, 87, 24, 69, 64, 44, 40, 29, 44, 47, 32, 29, 81, 67, 33, 81, 34,\n",
       "       53, 82, 35, 29, 34, 44, 35])"
      ]
     },
     "execution_count": 7,
     "metadata": {},
     "output_type": "execute_result"
    }
   ],
   "source": [
    "ages = np.random.randint(18, high=90, size=500)\n",
    "ages"
   ]
  },
  {
   "cell_type": "code",
   "execution_count": 8,
   "metadata": {},
   "outputs": [
    {
     "data": {
      "text/plain": [
       "ModeResult(mode=array([85]), count=array([13]))"
      ]
     },
     "execution_count": 8,
     "metadata": {},
     "output_type": "execute_result"
    }
   ],
   "source": [
    "from scipy import stats\n",
    "stats.mode(ages)"
   ]
  },
  {
   "cell_type": "code",
   "execution_count": null,
   "metadata": {},
   "outputs": [],
   "source": []
  }
 ],
 "metadata": {
  "kernelspec": {
   "display_name": "Python 3",
   "language": "python",
   "name": "python3"
  },
  "language_info": {
   "codemirror_mode": {
    "name": "ipython",
    "version": 3
   },
   "file_extension": ".py",
   "mimetype": "text/x-python",
   "name": "python",
   "nbconvert_exporter": "python",
   "pygments_lexer": "ipython3",
   "version": "3.6.5"
  }
 },
 "nbformat": 4,
 "nbformat_minor": 1
}
